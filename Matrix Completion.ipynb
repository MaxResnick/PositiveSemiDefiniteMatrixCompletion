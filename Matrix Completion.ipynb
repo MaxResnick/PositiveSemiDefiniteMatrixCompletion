{
 "cells": [
  {
   "cell_type": "code",
   "execution_count": 728,
   "id": "67a354e3",
   "metadata": {},
   "outputs": [
    {
     "data": {
      "text/plain": [
       "matrixCompletion (generic function with 5 methods)"
      ]
     },
     "execution_count": 728,
     "metadata": {},
     "output_type": "execute_result"
    }
   ],
   "source": [
    "using LinearAlgebra\n",
    "\n",
    "function shrinkage(w,v)\n",
    "    z = w-v\n",
    "    if z >0\n",
    "        return z\n",
    "    else\n",
    "        return 0\n",
    "    end\n",
    "end\n",
    "\n",
    "function sparsity(a)\n",
    "    if a != 0\n",
    "        return 1\n",
    "    else\n",
    "        return 0\n",
    "    end\n",
    "end\n",
    "\n",
    "# maskedM is the partially masked matrix to complete\n",
    "# maxIterations is the maximum number of iterations\n",
    "# tol is the tolerance (used in stopping conditions)\n",
    "function matrixCompletion(maskedM, maxIterations = 300, tol = .0002,  𝜇 = 1, 𝛾 = 1.618)\n",
    "    #Initialize Parameters\n",
    "    n = size(maskedM,1)\n",
    "    𝜌 = 2.5/n\n",
    "    X = rand(Normal(0,1),n,n)\n",
    "    # Make X symmetric so that it has real eigenvalues\n",
    "    X = .5(X+X')\n",
    "    #X = X/norm(X,2)\n",
    "    Y = rand(Normal(0,1),n,n)\n",
    "    #Y = Y/norm(Y,2)\n",
    "    # Make Y symmetric\n",
    "    Y = .5(Y+Y')\n",
    "    Π = zeros(n,n)\n",
    "    \n",
    "    stop1 = zeros(maxIterations)\n",
    "    stop2 = zeros(maxIterations)\n",
    "    stop3 = zeros(maxIterations)\n",
    "    \n",
    "    #mulitplying by these elementwise is the projection onto the subspace of matrices with nonzeros \n",
    "    #on the sets Ω and Ω̂ respectively\n",
    "    Ω = sparsity.(maskedM)\n",
    "    Ω̂ = 1 .- Ω\n",
    "    \n",
    "    #Main Iteration\n",
    "    for i in 1:maxIterations\n",
    "        G = Y - (1/𝜌)*Π\n",
    "        w,U = eigen(G)\n",
    "        \n",
    "        X_prev = deepcopy(X)\n",
    "        X = U*Diagonal(shrinkage.(w,𝜇/𝜌))*U'\n",
    "        \n",
    "        E = X + (1/𝜌)*Π\n",
    "        Y = (1/(𝜌+1)) * Ω .* (maskedM + 𝜌 * E) + Ω̂ .* E\n",
    "        \n",
    "        Π = Π + 𝛾 * 𝜌 * (X - Y)\n",
    "\n",
    "        𝜇 = 𝜇/1.01\n",
    "        #Check Stopping Conditions\n",
    "        #X is not updating much\n",
    "        #X is very close to Y\n",
    "        #X is very close on the masked entries to the masked matrix\n",
    "        \n",
    "        stop1[i] = norm(X_prev-X, 2)\n",
    "        stop2[i] = norm(X-Y, 2)\n",
    "        stop3[i] = norm(Ω .* X - maskedM, 2)\n",
    "        if stop1[i] <= tol && stop2[i] <= tol && stop3[i] <= tol\n",
    "            break\n",
    "        end  \n",
    "    end\n",
    "    return (X, stop1, stop2, stop3)\n",
    "end"
   ]
  },
  {
   "cell_type": "code",
   "execution_count": 712,
   "id": "f9825a0e",
   "metadata": {
    "scrolled": false
   },
   "outputs": [
    {
     "data": {
      "text/plain": [
       "experiment (generic function with 1 method)"
      ]
     },
     "execution_count": 712,
     "metadata": {},
     "output_type": "execute_result"
    }
   ],
   "source": [
    "using Distributions \n",
    "using PyPlot\n",
    "using LinearAlgebra \n",
    "\n",
    "function experiment(m,r, 𝜎, SR, 𝜇)\n",
    "    ML = rand(Normal(0,1),m,r)\n",
    "    M  = ML*ML'\n",
    "    Σ = Symmetric(rand(Normal(0,1),m,m))\n",
    "    M_tilde = M + 𝜎 * Σ\n",
    "    Ω = Symmetric(rand(Bernoulli(SR),m,m))\n",
    "    X,stop1,stop2,stop3 = matrixCompletion(mask .* M_tilde)\n",
    "    R = rank(real(X))\n",
    "    Err = norm(X-M,2)\n",
    "    return(Err,R)\n",
    "end"
   ]
  },
  {
   "cell_type": "code",
   "execution_count": 660,
   "id": "a1770d06",
   "metadata": {},
   "outputs": [
    {
     "data": {
      "text/plain": [
       "fista_experiment (generic function with 1 method)"
      ]
     },
     "execution_count": 660,
     "metadata": {},
     "output_type": "execute_result"
    }
   ],
   "source": [
    "# Code from a julia notebook for EECS 551 at Umich\n",
    "# https://web.eecs.umich.edu/~fessler/course/551/julia/demo/09_lr_complete3.html\n",
    "\n",
    "# Define cost function for optimization problem\n",
    "nucnorm = (X) -> sum(svdvals(X))\n",
    "costfun = (X,Y,Ω,beta) -> 0.5 * norm(X[Ω]-Y[Ω])^2 + beta * nucnorm(X)\n",
    "\n",
    "#Define singular value soft thresholding (SVST)\n",
    "SVST = (X,beta) -> begin\n",
    "    U,s,V = svd(X)\n",
    "    sthresh = max.(s .- beta,0)\n",
    "    return U * Diagonal(sthresh) * V'\n",
    "end;\n",
    "\n",
    "# Apply ISTA (Iterative Soft-Thresholding Algorithm)\n",
    "niter = 400\n",
    "beta = 0.01 # chosen by trial-and-error here\n",
    "function lrmc_ista(Y)\n",
    "\tX = copy(Y)\n",
    "\tXold = copy(X)\n",
    "\tcost_ista = zeros(niter+1)\n",
    "\tcost_ista[1] = costfun(X,Y,beta)\n",
    "\tfor k=1:niter\n",
    "    \tX[Ω] = Y[Ω]\n",
    "    \tX = SVST(X,beta)\n",
    "    \tcost_ista[k+1] = costfun(X,Y,beta)\n",
    "\tend\n",
    "\treturn X, cost_ista\n",
    "end\n",
    "\n",
    "# Run FISTA algorithm\n",
    "niter = 200\n",
    "# beta = 0.01\n",
    "function lrmc_fista(Y,Ω)\n",
    "\tX = copy(Y)\n",
    "\tZ = copy(X)\n",
    "\tXold = copy(X)\n",
    "\ttold = 1\n",
    "\tcost_fista = zeros(niter+1)\n",
    "\tcost_fista[1] = costfun(X,Y,Ω,beta)\n",
    "\tfor k=1:niter\n",
    "    \tZ[Ω] = Y[Ω]\n",
    "    \tX = SVST(Z,beta)\n",
    "    \tt = (1 + sqrt(1+4*told^2))/2\n",
    "    \tZ = X + ((told-1)/t)*(X-Xold)\n",
    "    \tXold = X\n",
    "    \ttold = t\n",
    "    \tcost_fista[k+1] = costfun(X,Y,Ω,beta) # comment out to speed-up\n",
    "\tend\n",
    "\treturn X, cost_fista\n",
    "end\n",
    "\n",
    "\n",
    "#function fista_experiment(m,r, 𝜎, SR, 𝜇)\n",
    "function fista_experiment(m,r, 𝜎, SR, 𝜇)\n",
    "    ML = rand(Normal(0,1),m,r)\n",
    "    M  = ML*ML'\n",
    "    Σ = Symmetric(rand(Normal(0,1),m,m))\n",
    "    M_tilde = M + 𝜎 * Σ\n",
    "    Omega = Symmetric(rand(Bernoulli(SR),m,m))\n",
    "    Ω = Omega .!= 0\n",
    "    X,cost_fista = lrmc_fista(M_tilde, Ω)\n",
    "    R = rank(real(X))\n",
    "    Err = norm(X-M,2)\n",
    "    return(Err,R)\n",
    "end"
   ]
  },
  {
   "cell_type": "code",
   "execution_count": 735,
   "id": "7f166fef",
   "metadata": {
    "scrolled": true
   },
   "outputs": [],
   "source": [
    "using Plots\n",
    "using LaTeXStrings\n",
    "x = 1:300\n",
    "\n",
    "Plots.plot(x,[log.(stop1),log.(stop2),log.(stop3)], title = \"Stopping Conditions\", label = [L\"||X_k-X_{k-1}||\" L\"||X_k-Y_k||\" L\"||X_\\Omega - M_\\Omega||\"],lw = 3,show = true)\n",
    "Plots.savefig(\"Stopping Conditions\")\n",
    "#Plots.plot!(log.(stop2))\n",
    "#Plots.plot!(log.(stop3))"
   ]
  },
  {
   "cell_type": "code",
   "execution_count": 730,
   "id": "fa92c593",
   "metadata": {},
   "outputs": [
    {
     "name": "stdout",
     "output_type": "stream",
     "text": [
      "(0.1650839200118543, 5)(0.06777503985239013, 5)"
     ]
    }
   ],
   "source": [
    "sigma = 0\n",
    "r = 5\n",
    "n = 100\n",
    "SR = .45\n",
    "print(experiment(n,r,sigma,SR,1))\n",
    "print(fista_experiment(n,r,sigma,SR,1))"
   ]
  },
  {
   "cell_type": "code",
   "execution_count": 731,
   "id": "d279917c",
   "metadata": {},
   "outputs": [
    {
     "name": "stdout",
     "output_type": "stream",
     "text": [
      "(0.1793456908056056, 5)(0.09277425557547524, 16)"
     ]
    }
   ],
   "source": [
    "sigma = 0.001\n",
    "r = 5\n",
    "n = 100\n",
    "SR = .45\n",
    "print(experiment(n,r,sigma,SR,1))\n",
    "print(fista_experiment(n,r,sigma,SR,1))"
   ]
  },
  {
   "cell_type": "code",
   "execution_count": 732,
   "id": "cb4f0a66",
   "metadata": {},
   "outputs": [
    {
     "name": "stdout",
     "output_type": "stream",
     "text": [
      "(0.7150000117687665, 29)(1.0336770757398177, 50)"
     ]
    }
   ],
   "source": [
    "sigma = .01\n",
    "r = 5\n",
    "n = 100\n",
    "SR = .45\n",
    "print(experiment(n,r,sigma,SR,1))\n",
    "print(fista_experiment(n,r,sigma,SR,1))"
   ]
  },
  {
   "cell_type": "code",
   "execution_count": 733,
   "id": "296dcfa4",
   "metadata": {},
   "outputs": [
    {
     "name": "stdout",
     "output_type": "stream",
     "text": [
      "(12.30039282685151, 46)(11.226976946648406, 54)"
     ]
    }
   ],
   "source": [
    "sigma = .1\n",
    "r = 5\n",
    "n = 100\n",
    "SR = .45\n",
    "print(experiment(n,r,sigma,SR,1))\n",
    "print(fista_experiment(n,r,sigma,SR,1))"
   ]
  },
  {
   "cell_type": "code",
   "execution_count": 734,
   "id": "858ce9ec",
   "metadata": {},
   "outputs": [
    {
     "name": "stdout",
     "output_type": "stream",
     "text": [
      "(47.211772782816595, 50)(32.78378457723613, 56)"
     ]
    }
   ],
   "source": [
    "sigma = .3\n",
    "r = 5\n",
    "n = 100\n",
    "SR = .45\n",
    "print(experiment(n,r,sigma,SR,1))\n",
    "print(fista_experiment(n,r,sigma,SR,1))"
   ]
  }
 ],
 "metadata": {
  "kernelspec": {
   "display_name": "Julia 1.7.2",
   "language": "julia",
   "name": "julia-1.7"
  },
  "language_info": {
   "file_extension": ".jl",
   "mimetype": "application/julia",
   "name": "julia",
   "version": "1.7.2"
  }
 },
 "nbformat": 4,
 "nbformat_minor": 5
}
